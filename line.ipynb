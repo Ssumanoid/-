{
 "cells": [
  {
   "cell_type": "code",
   "execution_count": 1,
   "id": "5590f11f",
   "metadata": {},
   "outputs": [
    {
     "ename": "KeyboardInterrupt",
     "evalue": "",
     "output_type": "error",
     "traceback": [
      "\u001b[0;31m---------------------------------------------------------------------------\u001b[0m",
      "\u001b[0;31mKeyboardInterrupt\u001b[0m                         Traceback (most recent call last)",
      "Input \u001b[0;32mIn [1]\u001b[0m, in \u001b[0;36m<cell line: 11>\u001b[0;34m()\u001b[0m\n\u001b[1;32m     42\u001b[0m     cv2\u001b[38;5;241m.\u001b[39mimshow(\u001b[38;5;124m\"\u001b[39m\u001b[38;5;124mMask\u001b[39m\u001b[38;5;124m\"\u001b[39m,mask)\n\u001b[1;32m     43\u001b[0m     cv2\u001b[38;5;241m.\u001b[39mimshow(\u001b[38;5;124m\"\u001b[39m\u001b[38;5;124mimg\u001b[39m\u001b[38;5;124m\"\u001b[39m,img)\n\u001b[0;32m---> 44\u001b[0m     \u001b[38;5;28;01mif\u001b[39;00m \u001b[43mcv2\u001b[49m\u001b[38;5;241;43m.\u001b[39;49m\u001b[43mwaitKey\u001b[49m\u001b[43m(\u001b[49m\u001b[38;5;241;43m1\u001b[39;49m\u001b[43m)\u001b[49m \u001b[38;5;241m&\u001b[39m \u001b[38;5;241m0xff\u001b[39m \u001b[38;5;241m==\u001b[39m \u001b[38;5;28mord\u001b[39m(\u001b[38;5;124m'\u001b[39m\u001b[38;5;124mq\u001b[39m\u001b[38;5;124m'\u001b[39m):   \u001b[38;5;66;03m# 1 is the time in ms\u001b[39;00m\n\u001b[1;32m     45\u001b[0m         \u001b[38;5;28;01mbreak\u001b[39;00m\n\u001b[1;32m     46\u001b[0m cap\u001b[38;5;241m.\u001b[39mrelease()\n",
      "\u001b[0;31mKeyboardInterrupt\u001b[0m: "
     ]
    }
   ],
   "source": [
    "import cv2\n",
    "import numpy as np\n",
    "import math\n",
    "\n",
    "cap = cv2.VideoCapture(0)\n",
    "cap.set(3, 160)\n",
    "cap.set(4, 120)\n",
    "\n",
    "black_range = np.array([(0, 0, 170), (360, 50, 255)])\n",
    "while True:\n",
    "    ret, img = cap.read()\n",
    "    \n",
    "    img = cv2.bitwise_not(img) #img 색 반전\n",
    "    mask = cv2.cvtColor(img, cv2.COLOR_BGR2HSV) #bgr에서 hsv로 변환\n",
    "    mask = cv2.inRange(mask, black_range[0], black_range[1]) #black_range안에 있는것만 걸러낸다고 지정\n",
    "    img = cv2.bitwise_and(img, img, mask=mask) #채로 걸러낸다.\n",
    "    \n",
    "    contours, hierarchy = cv2.findContours(mask, 1, cv2.CHAIN_APPROX_NONE)\n",
    "    \n",
    "    \n",
    "    if len(contours) > 0 :\n",
    "        c = max(contours, key=cv2.contourArea)\n",
    "        M = cv2.moments(c)\n",
    "        if M[\"m00\"] !=0 :\n",
    "            cx = int(M['m10']/M['m00'])\n",
    "            cy = int(M['m01']/M['m00'])\n",
    "            rows,cols=img.shape[:2]\n",
    "            [vx,vy,x,y]=cv2.fitLine(c,cv2.DIST_L2,0,0.01,0.01)\n",
    "            y1=int((-x*vy/vx)+y)\n",
    "            y2=int(((cols-x)*vy/vx)+y)\n",
    "            rad = math.atan(float(y1-y2)/(cols-1))\n",
    "            deg=round(rad*180/(np.pi),3)\n",
    "            deg=str(deg)\n",
    "            \n",
    "            cv2.putText(img, deg, (100, 100), 0, 3, (0, 0, 255), 5)\n",
    "            cv2.circle(img, (cx,cy), 5, (255,255,255), -1)\n",
    "            cv2.line(img,(cx,cy-500),(cx,cy+500),(0,0,255),3)\n",
    "            cv2.line(img,(0,y1),(cols-1,y2),(0,0,255),2)\n",
    "            cv2.drawContours(img, c, -1, (0,255,0), 2)\n",
    "    else :\n",
    "        print(\"I don't see the line\")\n",
    "    cv2.imshow(\"Mask\",mask)\n",
    "    cv2.imshow(\"img\",img)\n",
    "    if cv2.waitKey(1) & 0xff == ord('q'):   # 1 is the time in ms\n",
    "        break\n",
    "cap.release()\n",
    "cv2.destroyAllWindows()\n",
    "\n"
   ]
  },
  {
   "cell_type": "code",
   "execution_count": null,
   "id": "a4d61e47",
   "metadata": {},
   "outputs": [],
   "source": []
  },
  {
   "cell_type": "code",
   "execution_count": null,
   "id": "d53dadd5",
   "metadata": {},
   "outputs": [],
   "source": []
  }
 ],
 "metadata": {
  "kernelspec": {
   "display_name": "Python 3 (ipykernel)",
   "language": "python",
   "name": "python3"
  },
  "language_info": {
   "codemirror_mode": {
    "name": "ipython",
    "version": 3
   },
   "file_extension": ".py",
   "mimetype": "text/x-python",
   "name": "python",
   "nbconvert_exporter": "python",
   "pygments_lexer": "ipython3",
   "version": "3.9.12"
  }
 },
 "nbformat": 4,
 "nbformat_minor": 5
}
